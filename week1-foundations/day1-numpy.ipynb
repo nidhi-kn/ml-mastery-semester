{
 "cells": [
  {
   "cell_type": "code",
   "execution_count": 2,
   "id": "be3e6f18",
   "metadata": {},
   "outputs": [],
   "source": [
    "import numpy as np\n",
    "import matplotlib.pyplot as plt\n"
   ]
  },
  {
   "cell_type": "code",
   "execution_count": 3,
   "id": "34621eb0",
   "metadata": {},
   "outputs": [
    {
     "name": "stdout",
     "output_type": "stream",
     "text": [
      " Starting my ML journey today!\n",
      "NumPy version: 2.0.2\n"
     ]
    }
   ],
   "source": [
    "print(\" Starting my ML journey today!\")\n",
    "print(f\"NumPy version: {np.__version__}\")"
   ]
  },
  {
   "cell_type": "code",
   "execution_count": 4,
   "id": "0a428e30",
   "metadata": {},
   "outputs": [
    {
     "name": "stdout",
     "output_type": "stream",
     "text": [
      "\n",
      "=== Exercise 1: Random Matrix ===\n",
      "Random 3x3 matrix:\n",
      "[[0.93890558 0.04010457 0.07458091]\n",
      " [0.8230828  0.70747452 0.49449308]\n",
      " [0.68102081 0.62954155 0.202501  ]]\n"
     ]
    }
   ],
   "source": [
    "print(\"\\n=== Exercise 1: Random Matrix ===\")\n",
    "matrix = np.random.rand(3, 3)\n",
    "print(\"Random 3x3 matrix:\")\n",
    "print(matrix)"
   ]
  },
  {
   "cell_type": "code",
   "execution_count": 5,
   "id": "aeeeda04",
   "metadata": {},
   "outputs": [
    {
     "name": "stdout",
     "output_type": "stream",
     "text": [
      "Build Dependencies:\n",
      "  blas:\n",
      "    detection method: pkgconfig\n",
      "    found: true\n",
      "    include directory: C:/Users/runneradmin/AppData/Local/Temp/cibw-run-2iyom4cp/cp312-win_amd64/build/venv/Lib/site-packages/scipy_openblas64/include\n",
      "    lib directory: C:/Users/runneradmin/AppData/Local/Temp/cibw-run-2iyom4cp/cp312-win_amd64/build/venv/Lib/site-packages/scipy_openblas64/lib\n",
      "    name: scipy-openblas\n",
      "    openblas configuration: OpenBLAS 0.3.27  USE64BITINT DYNAMIC_ARCH NO_AFFINITY\n",
      "      Zen MAX_THREADS=24\n",
      "    pc file directory: D:/a/numpy/numpy/.openblas\n",
      "    version: 0.3.27\n",
      "  lapack:\n",
      "    detection method: pkgconfig\n",
      "    found: true\n",
      "    include directory: C:/Users/runneradmin/AppData/Local/Temp/cibw-run-2iyom4cp/cp312-win_amd64/build/venv/Lib/site-packages/scipy_openblas64/include\n",
      "    lib directory: C:/Users/runneradmin/AppData/Local/Temp/cibw-run-2iyom4cp/cp312-win_amd64/build/venv/Lib/site-packages/scipy_openblas64/lib\n",
      "    name: scipy-openblas\n",
      "    openblas configuration: OpenBLAS 0.3.27  USE64BITINT DYNAMIC_ARCH NO_AFFINITY\n",
      "      Zen MAX_THREADS=24\n",
      "    pc file directory: D:/a/numpy/numpy/.openblas\n",
      "    version: 0.3.27\n",
      "Compilers:\n",
      "  c:\n",
      "    commands: cl\n",
      "    linker: link\n",
      "    name: msvc\n",
      "    version: 19.29.30154\n",
      "  c++:\n",
      "    commands: cl\n",
      "    linker: link\n",
      "    name: msvc\n",
      "    version: 19.29.30154\n",
      "  cython:\n",
      "    commands: cython\n",
      "    linker: cython\n",
      "    name: cython\n",
      "    version: 3.0.11\n",
      "Machine Information:\n",
      "  build:\n",
      "    cpu: x86_64\n",
      "    endian: little\n",
      "    family: x86_64\n",
      "    system: windows\n",
      "  host:\n",
      "    cpu: x86_64\n",
      "    endian: little\n",
      "    family: x86_64\n",
      "    system: windows\n",
      "Python Information:\n",
      "  path: C:\\Users\\runneradmin\\AppData\\Local\\Temp\\build-env-j69yd7d0\\Scripts\\python.exe\n",
      "  version: '3.12'\n",
      "SIMD Extensions:\n",
      "  baseline:\n",
      "  - SSE\n",
      "  - SSE2\n",
      "  - SSE3\n",
      "  found:\n",
      "  - SSSE3\n",
      "  - SSE41\n",
      "  - POPCNT\n",
      "  - SSE42\n",
      "  - AVX\n",
      "  - F16C\n",
      "  - FMA3\n",
      "  - AVX2\n",
      "  not found:\n",
      "  - AVX512F\n",
      "  - AVX512CD\n",
      "  - AVX512_SKX\n",
      "  - AVX512_CLX\n",
      "  - AVX512_CNL\n",
      "  - AVX512_ICL\n",
      "\n"
     ]
    }
   ],
   "source": [
    "np.show_config()"
   ]
  },
  {
   "cell_type": "code",
   "execution_count": 6,
   "id": "96b8e2a1",
   "metadata": {},
   "outputs": [
    {
     "name": "stdout",
     "output_type": "stream",
     "text": [
      "\n",
      "Max value: 0.9389\n",
      "Min value: 0.0401\n",
      "Mean value: 0.5102\n",
      "Standard deviation: 0.3109\n"
     ]
    }
   ],
   "source": [
    "print(f\"\\nMax value: {matrix.max():.4f}\")\n",
    "print(f\"Min value: {matrix.min():.4f}\")\n",
    "print(f\"Mean value: {matrix.mean():.4f}\")\n",
    "print(f\"Standard deviation: {matrix.std():.4f}\")"
   ]
  },
  {
   "cell_type": "code",
   "execution_count": 7,
   "id": "9948a1c3",
   "metadata": {},
   "outputs": [
    {
     "name": "stdout",
     "output_type": "stream",
     "text": [
      "\n",
      "=== Exercise 3: Reshaping ===\n",
      "Original shape: (3, 3)\n",
      "Flattened shape: (9,)\n",
      "Flattened array: [0.93890558 0.04010457 0.07458091 0.8230828  0.70747452 0.49449308\n",
      " 0.68102081 0.62954155 0.202501  ]\n"
     ]
    }
   ],
   "source": [
    "print(\"\\n=== Exercise 3: Reshaping ===\")\n",
    "flat_array = matrix.reshape(-1)\n",
    "print(f\"Original shape: {matrix.shape}\")\n",
    "print(f\"Flattened shape: {flat_array.shape}\")\n",
    "print(f\"Flattened array: {flat_array}\")"
   ]
  },
  {
   "cell_type": "code",
   "execution_count": 8,
   "id": "8cbd47b1",
   "metadata": {},
   "outputs": [
    {
     "name": "stdout",
     "output_type": "stream",
     "text": [
      "\n",
      "=== Exercise 4: Element-wise Operations ===\n",
      "Matrix squared:\n",
      "[[0.88154368 0.00160838 0.00556231]\n",
      " [0.6774653  0.50052019 0.2445234 ]\n",
      " [0.46378934 0.39632257 0.04100666]]\n"
     ]
    }
   ],
   "source": [
    "print(\"\\n=== Exercise 4: Element-wise Operations ===\")\n",
    "squared = matrix ** 2\n",
    "print(\"Matrix squared:\")\n",
    "print(squared)"
   ]
  },
  {
   "cell_type": "code",
   "execution_count": 9,
   "id": "9063cd1f",
   "metadata": {},
   "outputs": [
    {
     "name": "stdout",
     "output_type": "stream",
     "text": [
      "Matrix * 2 + 1:\n",
      "[[2.87781116 1.08020914 1.14916182]\n",
      " [2.64616561 2.41494903 1.98898615]\n",
      " [2.36204162 2.25908311 1.405002  ]]\n"
     ]
    }
   ],
   "source": [
    "print(\"Matrix * 2 + 1:\")\n",
    "print(matrix * 2 + 1)"
   ]
  },
  {
   "cell_type": "code",
   "execution_count": 10,
   "id": "cd1cb30c",
   "metadata": {},
   "outputs": [
    {
     "name": "stdout",
     "output_type": "stream",
     "text": [
      "\n",
      "=== Exercise 5: Boolean Indexing ===\n",
      "Number of values > 0.5: 5\n",
      "Values greater than 0.5:\n",
      "[0.93890558 0.8230828  0.70747452 0.68102081 0.62954155]\n"
     ]
    }
   ],
   "source": [
    "print(\"\\n=== Exercise 5: Boolean Indexing ===\")\n",
    "condition = matrix > 0.5\n",
    "print(f\"Number of values > 0.5: {np.sum(condition)}\")\n",
    "print(\"Values greater than 0.5:\")\n",
    "print(matrix[condition])"
   ]
  },
  {
   "cell_type": "code",
   "execution_count": 11,
   "id": "0689105d",
   "metadata": {},
   "outputs": [
    {
     "name": "stdout",
     "output_type": "stream",
     "text": [
      "=== Exercise 6: Matrix Operations ===\n",
      "Matrix A:\n",
      "[[1 2]\n",
      " [3 4]]\n",
      "Matrix B:\n",
      "[[5 6]\n",
      " [7 8]]\n"
     ]
    }
   ],
   "source": [
    "print(\"=== Exercise 6: Matrix Operations ===\")\n",
    "matrix_a = np.array([[1, 2], [3, 4]])\n",
    "matrix_b = np.array([[5, 6], [7, 8]])\n",
    "\n",
    "print(\"Matrix A:\")\n",
    "print(matrix_a)\n",
    "print(\"Matrix B:\")  \n",
    "print(matrix_b)"
   ]
  },
  {
   "cell_type": "code",
   "execution_count": 12,
   "id": "f3acb174",
   "metadata": {},
   "outputs": [
    {
     "name": "stdout",
     "output_type": "stream",
     "text": [
      "A @ B (dot product):\n",
      "[[19 22]\n",
      " [43 50]]\n",
      "A * B (element-wise):\n",
      "[[ 5 12]\n",
      " [21 32]]\n"
     ]
    }
   ],
   "source": [
    "dot_product = np.dot(matrix_a, matrix_b)\n",
    "print(\"A @ B (dot product):\")\n",
    "print(dot_product)\n",
    "\n",
    "# Element-wise multiplication\n",
    "element_wise = matrix_a * matrix_b\n",
    "print(\"A * B (element-wise):\")\n",
    "print(element_wise)\n"
   ]
  },
  {
   "cell_type": "code",
   "execution_count": 13,
   "id": "d10fd773",
   "metadata": {},
   "outputs": [
    {
     "name": "stdout",
     "output_type": "stream",
     "text": [
      "\n",
      "=== Exercise 7: Linear Algebra ===\n",
      "Eigenvalues: [-0.37228132  5.37228132]\n",
      "Eigenvectors:\n",
      "[[-0.82456484 -0.41597356]\n",
      " [ 0.56576746 -0.90937671]]\n"
     ]
    }
   ],
   "source": [
    "print(\"\\n=== Exercise 7: Linear Algebra ===\")\n",
    "# Eigenvalues and eigenvectors\n",
    "eigenvals, eigenvecs = np.linalg.eig(matrix_a)\n",
    "print(f\"Eigenvalues: {eigenvals}\")\n",
    "print(\"Eigenvectors:\")\n",
    "print(eigenvecs)\n"
   ]
  },
  {
   "cell_type": "code",
   "execution_count": 14,
   "id": "12613404",
   "metadata": {},
   "outputs": [
    {
     "name": "stdout",
     "output_type": "stream",
     "text": [
      "Matrix inverse:\n",
      "[[-2.   1. ]\n",
      " [ 1.5 -0.5]]\n",
      "A * A^(-1) (should be identity):\n",
      "[[1.0000000e+00 0.0000000e+00]\n",
      " [8.8817842e-16 1.0000000e+00]]\n"
     ]
    }
   ],
   "source": [
    "try:\n",
    "    inverse = np.linalg.inv(matrix_a)\n",
    "    print(\"Matrix inverse:\")\n",
    "    print(inverse)\n",
    "    \n",
    "    # Verify: A * A^(-1) = I\n",
    "    identity_check = np.dot(matrix_a, inverse)\n",
    "    print(\"A * A^(-1) (should be identity):\")\n",
    "    print(identity_check)\n",
    "except:\n",
    "    print(\"Matrix is singular (no inverse)\")\n"
   ]
  },
  {
   "cell_type": "code",
   "execution_count": 15,
   "id": "94653300",
   "metadata": {},
   "outputs": [
    {
     "name": "stdout",
     "output_type": "stream",
     "text": [
      "\n",
      "=== Exercise 8: Statistics & Normalization ===\n",
      "Original data stats:\n",
      "Mean: 100.29\n",
      "Std: 14.68\n",
      "Min: 51.38\n",
      "Max: 157.79\n",
      "\n",
      "Normalized data stats:\n",
      "Mean: 0.0000000000\n",
      "Std: 1.00\n"
     ]
    }
   ],
   "source": [
    "print(\"\\n=== Exercise 8: Statistics & Normalization ===\")\n",
    "# Generate sample data\n",
    "np.random.seed(42)  # For reproducible results\n",
    "data = np.random.normal(100, 15, 1000)  # mean=100, std=15, 1000 samples\n",
    "\n",
    "print(f\"Original data stats:\")\n",
    "print(f\"Mean: {data.mean():.2f}\")\n",
    "print(f\"Std: {data.std():.2f}\")\n",
    "print(f\"Min: {data.min():.2f}\")\n",
    "print(f\"Max: {data.max():.2f}\")\n",
    "\n",
    "# Normalize (z-score)\n",
    "normalized = (data - data.mean()) / data.std()\n",
    "print(f\"\\nNormalized data stats:\")\n",
    "print(f\"Mean: {normalized.mean():.10f}\")\n",
    "print(f\"Std: {normalized.std():.2f}\")"
   ]
  },
  {
   "cell_type": "code",
   "execution_count": 16,
   "id": "d1b05d46",
   "metadata": {},
   "outputs": [
    {
     "name": "stdout",
     "output_type": "stream",
     "text": [
      "\n",
      "=== Exercise 9: Array Manipulation ===\n",
      "Arrays: [1 2 3], [4 5 6], [7 8 9]\n",
      "Horizontal stack: [1 2 3 4 5 6 7 8 9]\n",
      "Vertical stack:\n",
      "[[1 2 3]\n",
      " [4 5 6]\n",
      " [7 8 9]]\n",
      "\n",
      "Big matrix:\n",
      "[[ 0  1  2  3  4]\n",
      " [ 5  6  7  8  9]\n",
      " [10 11 12 13 14]\n",
      " [15 16 17 18 19]]\n",
      "Second row: [5 6 7 8 9]\n",
      "Third column: [ 2  7 12 17]\n",
      "2x2 submatrix: \n",
      "[[ 7  8]\n",
      " [12 13]]\n"
     ]
    }
   ],
   "source": [
    "print(\"\\n=== Exercise 9: Array Manipulation ===\")\n",
    "arr1 = np.array([1, 2, 3])\n",
    "arr2 = np.array([4, 5, 6])\n",
    "arr3 = np.array([7, 8, 9])\n",
    "\n",
    "# Stacking\n",
    "horizontal = np.hstack((arr1, arr2, arr3))\n",
    "vertical = np.vstack((arr1, arr2, arr3))\n",
    "\n",
    "print(f\"Arrays: {arr1}, {arr2}, {arr3}\")\n",
    "print(f\"Horizontal stack: {horizontal}\")\n",
    "print(f\"Vertical stack:\\n{vertical}\")\n",
    "\n",
    "# Advanced indexing\n",
    "matrix_big = np.arange(20).reshape(4, 5)\n",
    "print(f\"\\nBig matrix:\\n{matrix_big}\")\n",
    "print(f\"Second row: {matrix_big[1, :]}\")\n",
    "print(f\"Third column: {matrix_big[:, 2]}\")\n",
    "print(f\"2x2 submatrix: \\n{matrix_big[1:3, 2:4]}\")"
   ]
  },
  {
   "cell_type": "code",
   "execution_count": 17,
   "id": "5f0d5e96",
   "metadata": {},
   "outputs": [
    {
     "name": "stdout",
     "output_type": "stream",
     "text": [
      "\n",
      "=== Exercise 10: Correlation & Covariance ===\n",
      "Data shape: (3, 100)\n",
      "Correlation matrix:\n",
      "[[1.         0.96549437 0.19083991]\n",
      " [0.96549437 1.         0.18146912]\n",
      " [0.19083991 0.18146912 1.        ]]\n",
      "Covariance matrix:\n",
      "[[0.82476989 1.59046269 0.18792225]\n",
      " [1.59046269 3.29014231 0.35690504]\n",
      " [0.18792225 0.35690504 1.17566937]]\n",
      "\n",
      "🎉 ALL 10 EXERCISES COMPLETED! 🎉\n",
      "You've mastered NumPy fundamentals!\n",
      "Next: Pandas for data manipulation\n"
     ]
    }
   ],
   "source": [
    "print(\"\\n=== Exercise 10: Correlation & Covariance ===\")\n",
    "# Generate correlated data\n",
    "np.random.seed(42)\n",
    "x = np.random.normal(0, 1, 100)\n",
    "y = 2 * x + np.random.normal(0, 0.5, 100)  # y correlated with x\n",
    "z = np.random.normal(0, 1, 100)  # z independent\n",
    "\n",
    "data_matrix = np.vstack((x, y, z))\n",
    "print(\"Data shape:\", data_matrix.shape)\n",
    "\n",
    "# Correlation matrix\n",
    "correlation_matrix = np.corrcoef(data_matrix)\n",
    "print(\"Correlation matrix:\")\n",
    "print(correlation_matrix)\n",
    "# Covariance matrix\n",
    "covariance_matrix = np.cov(data_matrix)\n",
    "print(\"Covariance matrix:\")\n",
    "print(covariance_matrix)\n",
    "\n",
    "print(\"\\n🎉 ALL 10 EXERCISES COMPLETED! 🎉\")\n",
    "print(\"You've mastered NumPy fundamentals!\")\n",
    "print(\"Next: Pandas for data manipulation\")\n"
   ]
  },
  {
   "cell_type": "code",
   "execution_count": null,
   "id": "5f75dc0f",
   "metadata": {},
   "outputs": [],
   "source": []
  }
 ],
 "metadata": {
  "kernelspec": {
   "display_name": "base",
   "language": "python",
   "name": "python3"
  },
  "language_info": {
   "codemirror_mode": {
    "name": "ipython",
    "version": 3
   },
   "file_extension": ".py",
   "mimetype": "text/x-python",
   "name": "python",
   "nbconvert_exporter": "python",
   "pygments_lexer": "ipython3",
   "version": "3.12.7"
  }
 },
 "nbformat": 4,
 "nbformat_minor": 5
}
